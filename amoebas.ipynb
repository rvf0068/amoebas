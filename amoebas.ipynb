{
 "cells": [
  {
   "cell_type": "code",
   "execution_count": 1,
   "metadata": {},
   "outputs": [
    {
     "data": {
      "text/plain": [
       "true"
      ]
     },
     "execution_count": 1,
     "metadata": {
      "text/plain": ""
     },
     "output_type": "execute_result"
    }
   ],
   "source": [
    "LoadPackage(\"yags\");"
   ]
  },
  {
   "cell_type": "code",
   "execution_count": 5,
   "metadata": {},
   "outputs": [
    {
     "data": {
      "text/plain": [
       "function( g, e, ne ) ... end"
      ]
     },
     "execution_count": 2,
     "metadata": {
      "text/plain": ""
     },
     "output_type": "execute_result"
    },
    {
     "data": {
      "text/plain": [
       "function( g, e, ne ) ... end"
      ]
     },
     "execution_count": 3,
     "metadata": {
      "text/plain": ""
     },
     "output_type": "execute_result"
    },
    {
     "data": {
      "text/plain": [
       "function( g ) ... end"
      ]
     },
     "execution_count": 4,
     "metadata": {
      "text/plain": ""
     },
     "output_type": "execute_result"
    },
    {
     "data": {
      "text/plain": [
       "function( n ) ... end"
      ]
     },
     "execution_count": 5,
     "metadata": {
      "text/plain": ""
     },
     "output_type": "execute_result"
    }
   ],
   "source": [
    "ChangeEdge := function (g, e, ne)\n",
    "    local g1, g2;\n",
    "    g1 := RemoveEdges(g, [e]);\n",
    "    g2 := AddEdges(g1, [ne]);\n",
    "    return g2;\n",
    "end;\n",
    "\n",
    "AreChangeableEdges := function(g, e, ne)\n",
    "    if IsIsomorphicGraph(g, ChangeEdge(g, e, ne)) then\n",
    "        return IsoMorphisms(g, ChangeEdge(g, e, ne));\n",
    "    else\n",
    "        return false;\n",
    "    fi;\n",
    "end;\n",
    "\n",
    "PermsChangeableEdges := function(g)\n",
    "    local e, ne, perms, edges, nonedges, isos, iso;\n",
    "    perms := [];\n",
    "    edges := Edges(g);\n",
    "    nonedges := Difference(Combinations(Vertices(g), 2), edges);\n",
    "    for e in edges do\n",
    "        for ne in nonedges do\n",
    "            isos := AreChangeableEdges(g, e, ne);\n",
    "            if IsList(isos) then\n",
    "                for iso in isos do\n",
    "                    Add(perms, PermList(iso));\n",
    "                od;\n",
    "            fi;\n",
    "        od;\n",
    "    od;\n",
    "    if perms = [] then\n",
    "        return Group(());\n",
    "    else\n",
    "        return Group(perms);\n",
    "    fi;\n",
    "end;\n",
    "\n",
    "AmoebasGivenOrder := function(n)\n",
    "    local graphs, groups, indices;\n",
    "    graphs := ConnectedGraphsOfGivenOrder(n);\n",
    "    groups := List(graphs, x->Size(PermsChangeableEdges(x)));\n",
    "    indices := Filtered([1..Length(graphs)],i->groups[i]=Factorial(n));\n",
    "    Print(\"There are \",Length(indices),\" from a total of \", Length(graphs),\"\\n\");\n",
    "    return indices;\n",
    "end;"
   ]
  },
  {
   "cell_type": "code",
   "execution_count": 6,
   "metadata": {},
   "outputs": [
    {
     "name": "stdout",
     "output_type": "stream",
     "text": [
      "There are 3 from a total of 6\n"
     ]
    },
    {
     "data": {
      "text/plain": [
       "[ 2, 3, 5 ]"
      ]
     },
     "execution_count": 6,
     "metadata": {
      "text/plain": ""
     },
     "output_type": "execute_result"
    }
   ],
   "source": [
    "AmoebasGivenOrder(4);"
   ]
  },
  {
   "cell_type": "markdown",
   "metadata": {},
   "source": [
    "Esto dice que hay 3 amoebas entre las gráficas conexas con 4 vértices, y sus índices en la lista de tales gráficas son 2,3,5."
   ]
  },
  {
   "cell_type": "code",
   "execution_count": null,
   "metadata": {},
   "outputs": [],
   "source": [
    "graficas4 := ConnectedGraphsOfGivenOrder(4);;"
   ]
  },
  {
   "cell_type": "code",
   "execution_count": null,
   "metadata": {},
   "outputs": [],
   "source": [
    "Adjacencies(graficas4[2])"
   ]
  },
  {
   "cell_type": "code",
   "execution_count": null,
   "metadata": {},
   "outputs": [],
   "source": []
  }
 ],
 "metadata": {
  "kernelspec": {
   "display_name": "GAP 4",
   "language": "gap",
   "name": "gap-4"
  },
  "language_info": {
   "codemirror_mode": "gap",
   "file_extension": ".g",
   "mimetype": "text/x-gap",
   "name": "GAP 4",
   "nbconvert_exporter": "",
   "pygments_lexer": "gap",
   "version": "4.11.0"
  }
 },
 "nbformat": 4,
 "nbformat_minor": 2
}
